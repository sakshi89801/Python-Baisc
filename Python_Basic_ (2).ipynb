{
  "nbformat": 4,
  "nbformat_minor": 0,
  "metadata": {
    "colab": {
      "provenance": [],
      "toc_visible": true
    },
    "kernelspec": {
      "name": "python3",
      "display_name": "Python 3"
    },
    "language_info": {
      "name": "python"
    }
  },
  "cells": [
    {
      "cell_type": "code",
      "execution_count": 1,
      "metadata": {
        "colab": {
          "base_uri": "https://localhost:8080/"
        },
        "id": "6cMlZJK8ZGfk",
        "outputId": "cd0fe71e-2cc2-4e6b-dc6d-e5d7ada15c25"
      },
      "outputs": [
        {
          "output_type": "stream",
          "name": "stdout",
          "text": [
            "Hello, World!\n"
          ]
        }
      ],
      "source": [
        "print(\"Hello, World!\")\n"
      ]
    },
    {
      "cell_type": "code",
      "source": [
        "name = \"Sakshi\"\n",
        "age = 20\n",
        "print(name, age)"
      ],
      "metadata": {
        "colab": {
          "base_uri": "https://localhost:8080/"
        },
        "id": "jpQvVFV1ZUyd",
        "outputId": "24f6a6d5-3b81-4ac5-fb51-5afa22393a65"
      },
      "execution_count": 2,
      "outputs": [
        {
          "output_type": "stream",
          "name": "stdout",
          "text": [
            "Sakshi 20\n"
          ]
        }
      ]
    },
    {
      "cell_type": "code",
      "source": [
        "import keyword\n",
        "print(\"Python Keywords:\")\n",
        "print(keyword.kwlist)"
      ],
      "metadata": {
        "colab": {
          "base_uri": "https://localhost:8080/"
        },
        "id": "0qKu1RRHZa6S",
        "outputId": "160ec4a1-417a-45ec-aff1-015f742a6bcb"
      },
      "execution_count": 4,
      "outputs": [
        {
          "output_type": "stream",
          "name": "stdout",
          "text": [
            "Python Keywords:\n",
            "['False', 'None', 'True', 'and', 'as', 'assert', 'async', 'await', 'break', 'class', 'continue', 'def', 'del', 'elif', 'else', 'except', 'finally', 'for', 'from', 'global', 'if', 'import', 'in', 'is', 'lambda', 'nonlocal', 'not', 'or', 'pass', 'raise', 'return', 'try', 'while', 'with', 'yield']\n"
          ]
        }
      ]
    },
    {
      "cell_type": "code",
      "source": [
        "import keyword\n",
        "word = input(\"Enter a word: \")\n",
        "print(keyword.iskeyword(word))"
      ],
      "metadata": {
        "colab": {
          "base_uri": "https://localhost:8080/"
        },
        "id": "8zMY3x0kZqNE",
        "outputId": "f0933c0d-999a-4316-ce2b-dab3bc877065"
      },
      "execution_count": 6,
      "outputs": [
        {
          "output_type": "stream",
          "name": "stdout",
          "text": [
            "Enter a word: for\n",
            "True\n"
          ]
        }
      ]
    },
    {
      "cell_type": "code",
      "source": [
        "my_list = [1, 2, 3]\n",
        "my_list[0] = 100\n",
        "print(\"Modified list:\", my_list)\n",
        "\n"
      ],
      "metadata": {
        "colab": {
          "base_uri": "https://localhost:8080/"
        },
        "id": "WI591FOraDzb",
        "outputId": "c2e0e79e-034a-4efe-900a-12759d5fff98"
      },
      "execution_count": 9,
      "outputs": [
        {
          "output_type": "stream",
          "name": "stdout",
          "text": [
            "Modified list: [100, 2, 3]\n"
          ]
        }
      ]
    },
    {
      "cell_type": "markdown",
      "source": [
        "#tuple\n",
        "my_tuple = (10, 20, 30)\n",
        "my_tuple[0] = 100\n",
        "\n",
        "show error\n"
      ],
      "metadata": {
        "id": "ssSnwkLva6ni"
      }
    },
    {
      "cell_type": "code",
      "source": [
        "a = float(input(\"Enter first number: \"))  # 5\n",
        "b = float(input(\"Enter second number: \")) # 2\n",
        "\n",
        "print(\"Addition:\", a + b)\n",
        "print(\"Subtraction:\", a - b)\n",
        "print(\"Multiplication:\", a * b)\n",
        "print(\"Division:\", a / b)"
      ],
      "metadata": {
        "colab": {
          "base_uri": "https://localhost:8080/"
        },
        "id": "jgeqcZKUa6HC",
        "outputId": "db4c03b3-fa81-4f1b-cf64-d2abd87ee49d"
      },
      "execution_count": 10,
      "outputs": [
        {
          "output_type": "stream",
          "name": "stdout",
          "text": [
            "Enter first number: 3\n",
            "Enter second number: 5\n",
            "Addition: 8.0\n",
            "Subtraction: -2.0\n",
            "Multiplication: 15.0\n",
            "Division: 0.6\n"
          ]
        }
      ]
    },
    {
      "cell_type": "code",
      "source": [
        "a = True\n",
        "b = False\n",
        "\n",
        "print(\"a and b:\", a and b)\n",
        "print(\"a or b:\", a or b)\n"
      ],
      "metadata": {
        "colab": {
          "base_uri": "https://localhost:8080/"
        },
        "id": "048cUbAabcOn",
        "outputId": "a632519f-5e2d-47ff-9d93-1e29373bae38"
      },
      "execution_count": 12,
      "outputs": [
        {
          "output_type": "stream",
          "name": "stdout",
          "text": [
            "a and b: False\n",
            "a or b: True\n"
          ]
        }
      ]
    },
    {
      "cell_type": "code",
      "source": [
        "user_input = input(\"Enter a value: \")\n",
        "\n",
        "int_val = int(user_input)\n",
        "float_val = float(user_input)\n",
        "bool_val = bool(user_input)\n",
        "\n",
        "print(\"As Integer:\", int_val)\n",
        "print(\"As Float:\", float_val)\n",
        "print(\"As Boolean:\", bool_val)"
      ],
      "metadata": {
        "colab": {
          "base_uri": "https://localhost:8080/"
        },
        "id": "XXB1eewBboqk",
        "outputId": "c088def5-a86c-4909-bf74-5e10293c5b31"
      },
      "execution_count": 14,
      "outputs": [
        {
          "output_type": "stream",
          "name": "stdout",
          "text": [
            "Enter a value: 5\n",
            "As Integer: 5\n",
            "As Float: 5.0\n",
            "As Boolean: True\n"
          ]
        }
      ]
    },
    {
      "cell_type": "code",
      "source": [
        "string_numbers = [\"1\", \"2\", \"3\"]\n",
        "int_numbers = [int(x) for x in string_numbers]\n",
        "\n",
        "print(\"String List:\", string_numbers)\n",
        "print(\"Integer List:\", int_numbers)"
      ],
      "metadata": {
        "colab": {
          "base_uri": "https://localhost:8080/"
        },
        "id": "BNRUZ-JPcHMf",
        "outputId": "10c74191-803f-452b-9db4-92c92015555a"
      },
      "execution_count": 15,
      "outputs": [
        {
          "output_type": "stream",
          "name": "stdout",
          "text": [
            "String List: ['1', '2', '3']\n",
            "Integer List: [1, 2, 3]\n"
          ]
        }
      ]
    },
    {
      "cell_type": "code",
      "source": [
        "num = float(input(\"Enter number: \"))\n",
        "\n",
        "if num > 0:\n",
        "    print(\"Positive\")\n",
        "elif num < 0:\n",
        "    print(\"Negative\")\n",
        "else:\n",
        "    print(\"Zero\")"
      ],
      "metadata": {
        "colab": {
          "base_uri": "https://localhost:8080/"
        },
        "id": "EhXLSLOBceyI",
        "outputId": "bcb065bf-2f81-4909-9249-b840b7fa289a"
      },
      "execution_count": 24,
      "outputs": [
        {
          "output_type": "stream",
          "name": "stdout",
          "text": [
            "Enter number: -5\n",
            "Negative\n"
          ]
        }
      ]
    },
    {
      "cell_type": "code",
      "source": [
        "for i in range(1, 11):\n",
        "    print(i)"
      ],
      "metadata": {
        "colab": {
          "base_uri": "https://localhost:8080/"
        },
        "id": "QypTkYiUcxFa",
        "outputId": "2b026fee-0987-4e4c-883a-f7101689cfb8"
      },
      "execution_count": 19,
      "outputs": [
        {
          "output_type": "stream",
          "name": "stdout",
          "text": [
            "1\n",
            "2\n",
            "3\n",
            "4\n",
            "5\n",
            "6\n",
            "7\n",
            "8\n",
            "9\n",
            "10\n"
          ]
        }
      ]
    },
    {
      "cell_type": "code",
      "source": [
        "total = 0\n",
        "for i in range(2, 51, 2):\n",
        "    total += i\n",
        "print(\"even numbers between 1 and 50:\", total)"
      ],
      "metadata": {
        "colab": {
          "base_uri": "https://localhost:8080/"
        },
        "id": "tHwDtDAfdIES",
        "outputId": "0626b692-c250-46aa-c154-2c969084f37c"
      },
      "execution_count": 21,
      "outputs": [
        {
          "output_type": "stream",
          "name": "stdout",
          "text": [
            "even numbers between 1 and 50: 650\n"
          ]
        }
      ]
    },
    {
      "cell_type": "code",
      "source": [
        "s = input(\"Enter string: \")\n",
        "rev = \"\"\n",
        "i = len(s) - 1\n",
        "while i >= 0:\n",
        "    rev += s[i]\n",
        "    i -= 1\n",
        "print(\"Reversed:\", rev)\n"
      ],
      "metadata": {
        "colab": {
          "base_uri": "https://localhost:8080/"
        },
        "id": "Ame4B8MKebjG",
        "outputId": "852eec1d-e158-4d09-a271-955653b66067"
      },
      "execution_count": 25,
      "outputs": [
        {
          "output_type": "stream",
          "name": "stdout",
          "text": [
            "Enter string: sakshi\n",
            "Reversed: ihskas\n"
          ]
        }
      ]
    },
    {
      "cell_type": "code",
      "source": [
        "n = int(input(\"Enter number: \"))\n",
        "fact = 1\n",
        "i = 1\n",
        "while i <= n:\n",
        "    fact *= i\n",
        "    i += 1\n",
        "print(\"Factorial:\", fact)\n"
      ],
      "metadata": {
        "colab": {
          "base_uri": "https://localhost:8080/"
        },
        "id": "BMbrvob3em2c",
        "outputId": "6d196464-543e-42b3-88ea-3f7d704088f4"
      },
      "execution_count": 26,
      "outputs": [
        {
          "output_type": "stream",
          "name": "stdout",
          "text": [
            "Enter number: 4\n",
            "Factorial: 24\n"
          ]
        }
      ]
    },
    {
      "cell_type": "markdown",
      "source": [
        "1.  What is Python? Why is it popular?\n",
        "\n",
        "Python is a high-level programming language.\n",
        "Created to be easy to read and understand.\n",
        "\n",
        "Popular because:Simple syntax like English.\n",
        "\n",
        "Supports many areas: web, AI, machine learning, data science, etc.\n",
        "\n",
        "Large community and free libraries (like NumPy, pandas).\n",
        "\n",
        "\n",
        "\n",
        "\n",
        "\n",
        "\n"
      ],
      "metadata": {
        "id": "JKvNT3MEnBLd"
      }
    },
    {
      "cell_type": "markdown",
      "source": [
        " 2. What is an interpreter in Python?\n",
        "\n",
        "An interpreter is a program that Reads your code line by line, not all at once.\n",
        "Translates and executes each line.\n",
        "\n"
      ],
      "metadata": {
        "id": "Y7LpWti0nY8H"
      }
    },
    {
      "cell_type": "markdown",
      "source": [
        "3. What are pre-defined keywords in Python?\n",
        "\n",
        "These Keywords are special words already reserved by Python.\n",
        "Used to write the basic rules (syntax) of the language.\n",
        "\n",
        "Example keywords: if, else, for, while, class etc\n",
        "\n",
        "\n",
        "\n"
      ],
      "metadata": {
        "id": "ER9JcfyfnoXi"
      }
    },
    {
      "cell_type": "markdown",
      "source": [
        "4. Can keywords be used as variable names?\n",
        "\n",
        " No, They are reserved and used only for their special meaning.\n",
        "\n",
        "Example:name = \"Sakshi\" ,for = \"Sakshi\" (error)"
      ],
      "metadata": {
        "id": "jBTF_tBKn4VA"
      }
    },
    {
      "cell_type": "markdown",
      "source": [
        "5. What is mutability in Python?\n",
        "\n",
        "Mutability means whether the value of an object can be changed after creation.\n",
        "Mutable  can changeand Immutable cannot change."
      ],
      "metadata": {
        "id": "oi4GjxGBodde"
      }
    },
    {
      "cell_type": "markdown",
      "source": [
        "6. Why are lists mutable but tuples immutable?\n",
        "\n",
        "List You can add, remove, or change elements.\n",
        "Example: lst[0] = 10\n",
        "\n",
        "Tuple Once created, you cannot change it.\n",
        "Example: tpl[0] = 10  error"
      ],
      "metadata": {
        "id": "tXCe9jiAov3I"
      }
    },
    {
      "cell_type": "markdown",
      "source": [
        "7. Difference between == and is Operator\n",
        "\n",
        "==\toperator if values are equal\t5 == 5\tTrue\n",
        "is operator if objects are same in memory\ta is b (if a and b same object)"
      ],
      "metadata": {
        "id": "R2u9RVhOo8-e"
      }
    },
    {
      "cell_type": "markdown",
      "source": [
        "8. Logical Operators in Python\n",
        "\n",
        "- and Operator returns True only if both conditions are True.\n",
        "- or Operator returns True if at least one condition is True.\n",
        "- not Operator reverses the result:\n",
        "not True → False , not False → True"
      ],
      "metadata": {
        "id": "q3uacMiUqEsb"
      }
    },
    {
      "cell_type": "markdown",
      "source": [
        "9. What is Type Casting in Python?\n",
        "\n",
        "Changing one type of value to another.\n",
        "Examples:\n",
        "int(\"5\") → from string to int\n",
        "float(\"4.5\") → from string to float\n",
        "\n"
      ],
      "metadata": {
        "id": "HxgYHwobqiDZ"
      }
    },
    {
      "cell_type": "markdown",
      "source": [
        "10. Difference: Implicit vs Explicit Type Casting\n",
        "\n",
        "Implicit Int is converted to float\n",
        "Example:\ta = 5 + 3.2  = 8.2\n",
        "\n",
        "Explicit\tmanually change the type\n",
        "example:\tint(\"10\") → 10"
      ],
      "metadata": {
        "id": "XsOXGlooqr0l"
      }
    },
    {
      "cell_type": "markdown",
      "source": [
        "11. Purpose of Conditional Statements\n",
        "\n",
        "They are used to make decisions in your program.\n",
        "Based on conditions (True/False),Python decides what to do.\n"
      ],
      "metadata": {
        "id": "GsGAWIexraz9"
      }
    },
    {
      "cell_type": "markdown",
      "source": [
        "12. How does elif work?\n",
        "\n",
        "1.Stands for “else if”.\n",
        "2.Used when you have more than two choices.\n",
        "\n",
        "\n",
        "\n",
        "\n"
      ],
      "metadata": {
        "id": "ddJ0ImkerpZ6"
      }
    },
    {
      "cell_type": "markdown",
      "source": [
        "13. Difference between for and while loops\n",
        "\n",
        "for Loop: When you know how many times to repeat fix loop\n",
        "example:for i in range(5)\n",
        "\n",
        "while Loop: waiting for condition when you dont know how many times\n",
        "example:while i < 5\n",
        "\n"
      ],
      "metadata": {
        "id": "iVtqK9Rar37J"
      }
    }
  ]
}